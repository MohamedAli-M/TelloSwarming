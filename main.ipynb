{
 "cells": [
  {
   "cell_type": "code",
   "execution_count": null,
   "id": "7fb60478-cf56-4193-a687-26b874817ab5",
   "metadata": {},
   "outputs": [],
   "source": [
    "# This example script demonstrates how to use Python to fly Tello in a box mission\n",
    "# This script is part of our course on Tello drone programming\n",
    "# https://learn.droneblocks.io/p/tello-drone-programming-with-python/\n",
    "\n",
    "# Import the necessary modules\n",
    "import socket\n",
    "import threading\n",
    "import time\n",
    "import swarm"
   ]
  },
  {
   "cell_type": "markdown",
   "id": "59e78257-adbd-45c1-93ad-643f620d0eb6",
   "metadata": {},
   "source": [
    "## Drone Class "
   ]
  },
  {
   "cell_type": "code",
   "execution_count": null,
   "id": "2584142e-039a-42a6-bfe1-51214b207ac3",
   "metadata": {},
   "outputs": [],
   "source": [
    "from swarm import Drone"
   ]
  },
  {
   "cell_type": "markdown",
   "id": "9c5b93d5-2e95-4b22-b928-acee9ffc4c90",
   "metadata": {},
   "source": [
    "## Single Drone Application"
   ]
  },
  {
   "cell_type": "markdown",
   "id": "15fb9205-4451-461f-a241-84d752208c58",
   "metadata": {},
   "source": [
    "#### Initialization"
   ]
  },
  {
   "cell_type": "code",
   "execution_count": null,
   "id": "144f8453-4bbb-4470-bc34-74d5afd2cefd",
   "metadata": {},
   "outputs": [],
   "source": [
    "drone1 = Drone('192.168.0.126', 8889, 9010)\n",
    "\n",
    "drones = [drone1]"
   ]
  },
  {
   "cell_type": "markdown",
   "id": "2aca7977-7703-4953-b2af-0a61f6746d06",
   "metadata": {},
   "source": [
    "#### Connection"
   ]
  },
  {
   "cell_type": "code",
   "execution_count": null,
   "id": "7ec7e2e5-b4d5-4444-b5cd-03e308f20be5",
   "metadata": {},
   "outputs": [],
   "source": [
    "# Create and start a listening thread for each drone\n",
    "for drone in drones:\n",
    "    receive_thread = threading.Thread(target=drone.receive)\n",
    "    receive_thread.daemon = True\n",
    "    receive_thread.start()\n",
    "\n",
    "# Put Tello drones into command mode\n",
    "Drone1.send('command', 3)\n",
    "\n",
    "# Close all sockets\n",
    "Drones.close_connection(drones)"
   ]
  },
  {
   "cell_type": "markdown",
   "id": "91ac0609-f490-4547-87df-77edd2de4943",
   "metadata": {},
   "source": [
    "#### Simple Example"
   ]
  },
  {
   "cell_type": "code",
   "execution_count": null,
   "id": "ce79ab70-b9d7-408d-8f7a-7ff5b4e70d14",
   "metadata": {},
   "outputs": [],
   "source": [
    "# Create and start a listening thread for each drone\n",
    "for drone in drones:\n",
    "    receive_thread = threading.Thread(target=drone.receive)\n",
    "    receive_thread.daemon = True\n",
    "    receive_thread.start()\n",
    "\n",
    "# Put Tello drones into command mode\n",
    "Drone1.send('command', 3)\n",
    "Drone1.send('takeoff', 3)\n",
    "Drone1.send('land', 3)\n",
    "\n",
    "# Close all sockets\n",
    "Drone.close_connection(drones)"
   ]
  },
  {
   "cell_type": "markdown",
   "id": "7b1be953-d84b-44f0-adf9-b418485fb420",
   "metadata": {},
   "source": [
    "## Swarm"
   ]
  },
  {
   "cell_type": "markdown",
   "id": "a41c86bb-03e7-4f6a-afb2-c7e6e95fd31d",
   "metadata": {},
   "source": [
    "#### Initialization"
   ]
  },
  {
   "cell_type": "code",
   "execution_count": null,
   "id": "b7cc57c0-53db-47b8-9e55-08981522cce5",
   "metadata": {},
   "outputs": [],
   "source": [
    "drone1 = Drone('192.168.0.129', 8889, 9010)\n",
    "drone2 = Drone('192.168.0.101', 8889, 9011)\n",
    "drone3 = Drone('192.168.0.206', 8889, 9012)\n",
    "drone4 = Drone('192.168.0.96', 8889, 9013)\n",
    "\n",
    "drones = [drone1,drone2,drone3,drone4]"
   ]
  },
  {
   "cell_type": "markdown",
   "id": "1fac46cb-79b1-4167-8ace-c6731b83fa3f",
   "metadata": {},
   "source": [
    "#### Connection "
   ]
  },
  {
   "cell_type": "code",
   "execution_count": null,
   "id": "970132c7-df9d-4571-bfa2-6b4d9bf96f36",
   "metadata": {
    "tags": []
   },
   "outputs": [],
   "source": [
    "# Create and start a listening thread for each drone\n",
    "for drone in drones:\n",
    "    if drone is not None: \n",
    "        receive_thread = threading.Thread(target=drone.receive)\n",
    "        receive_thread.daemon = True\n",
    "        receive_thread.start()\n",
    "\n",
    "# Put Tello drones into command mode\n",
    "Drone.send_swarm(drones, 'command', 3)\n",
    "\n",
    "# Close all sockets\n",
    "Drone.close_connection(drones)"
   ]
  },
  {
   "cell_type": "markdown",
   "id": "14605f54-4700-4e66-b1dc-563c8c510bc9",
   "metadata": {},
   "source": [
    "#### Simple Example "
   ]
  },
  {
   "cell_type": "code",
   "execution_count": null,
   "id": "a5134b5b-236c-463a-a7c7-a7d615c171bd",
   "metadata": {},
   "outputs": [],
   "source": [
    "# Create and start a listening thread for each drone\n",
    "for drone in drones:\n",
    "    receive_thread = threading.Thread(target=drone.receive)\n",
    "    receive_thread.daemon = True\n",
    "    receive_thread.start()\n",
    "\n",
    "# Put Tello drones into command mode\n",
    "Drone.send_swarm(drones, 'command', 3)\n",
    "Drone.send_swarm(drones, 'takeoff', 3)\n",
    "Drone.send_swarm(drones, 'land', 3)\n",
    "\n",
    "# Close all sockets\n",
    "Drone.close_connection(drones)"
   ]
  },
  {
   "cell_type": "markdown",
   "id": "ab012d1b-22a9-4db7-8361-f702c236bc40",
   "metadata": {},
   "source": [
    "#### Square Example \n",
    "\n",
    "##### Note : Make sure you place the drones in this order and facing the correct way: \n",
    "\n",
    "![Diagram](./lib/square_mission.png)"
   ]
  },
  {
   "cell_type": "code",
   "execution_count": null,
   "id": "9c4367c2-07ff-42b2-91fd-8d883cb9bd3c",
   "metadata": {},
   "outputs": [],
   "source": [
    "# Create and start a listening thread for each drone\n",
    "for drone in drones:\n",
    "    receive_thread = threading.Thread(target=drone.receive)\n",
    "    receive_thread.daemon = True\n",
    "    receive_thread.start()\n",
    "\n",
    "# Put Tello drones into command mode\n",
    "Drone.send_swarm(drones, 'command', 3)\n",
    "\n",
    "# Takeoff\n",
    "Drone.send_swarm(drones, 'takeoff', 3)\n",
    "\n",
    "box_leg_distance = 60\n",
    "yaw_angle = 90\n",
    "\n",
    "# Loop and create each leg of the box\n",
    "for i in range(4):\n",
    "    # Fly forward\n",
    "    Drone.send_swarm(drones, \"forward \" + str(box_leg_distance), 3)\n",
    "    # Yaw right\n",
    "    Drone.send_swarm(drones, \"cw \" + str(yaw_angle), 3)\n",
    "\n",
    "Drone.send_swarm(drones, 'land', 3)\n",
    "\n",
    "# Close all sockets\n",
    "Drone.close_connection(drones)"
   ]
  },
  {
   "cell_type": "code",
   "execution_count": null,
   "id": "451ce7a0-bc5b-4893-a66b-9d2cbb74f329",
   "metadata": {},
   "outputs": [],
   "source": []
  }
 ],
 "metadata": {
  "kernelspec": {
   "display_name": "Python 3 (ipykernel)",
   "language": "python",
   "name": "python3"
  },
  "language_info": {
   "codemirror_mode": {
    "name": "ipython",
    "version": 3
   },
   "file_extension": ".py",
   "mimetype": "text/x-python",
   "name": "python",
   "nbconvert_exporter": "python",
   "pygments_lexer": "ipython3",
   "version": "3.10.9"
  }
 },
 "nbformat": 4,
 "nbformat_minor": 5
}
